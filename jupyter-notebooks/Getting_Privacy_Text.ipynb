{
 "cells": [
  {
   "cell_type": "markdown",
   "metadata": {},
   "source": [
    "## Getting Privacy Text"
   ]
  },
  {
   "cell_type": "code",
   "execution_count": 1,
   "metadata": {},
   "outputs": [],
   "source": [
    "import string\n",
    "import nltk\n",
    "import re\n",
    "import spacy\n",
    "nlp = spacy.load(\"en_core_web_sm\")"
   ]
  },
  {
   "cell_type": "markdown",
   "metadata": {},
   "source": [
    "### Text Preprocessing"
   ]
  },
  {
   "cell_type": "code",
   "execution_count": 2,
   "metadata": {},
   "outputs": [],
   "source": [
    "def remove_punctuation(text):\n",
    "    no_punctuation_text = ''.join([i for i in str(text) if i not in string.punctuation])\n",
    "    return no_punctuation_text.lower()"
   ]
  },
  {
   "cell_type": "code",
   "execution_count": 3,
   "metadata": {},
   "outputs": [],
   "source": [
    "def remove_nonwords(str_):\n",
    "    return re.sub(\"[^A-Za-z ]\\w+[^A-Za-z]*\", ' ', str_)"
   ]
  },
  {
   "cell_type": "code",
   "execution_count": 4,
   "metadata": {},
   "outputs": [],
   "source": [
    "# Lemmatization and Removing stop words and non words\n",
    "def text_preprocessing(text):\n",
    "    text = remove_punctuation(text)\n",
    "    text = remove_nonwords(text)\n",
    "    tokenized_text = [token.lemma_ for token in nlp(text)]\n",
    "    no_stopwords_list = [i.lower() for i in tokenized_text if i not in nlp.Defaults.stop_words]\n",
    "    lemma_text = ' '.join(no_stopwords_list)\n",
    "    return lemma_text"
   ]
  },
  {
   "cell_type": "markdown",
   "metadata": {},
   "source": [
    "### Web scraping"
   ]
  },
  {
   "cell_type": "code",
   "execution_count": 5,
   "metadata": {},
   "outputs": [],
   "source": [
    "from bs4 import BeautifulSoup\n",
    "import requests"
   ]
  },
  {
   "cell_type": "code",
   "execution_count": 6,
   "metadata": {},
   "outputs": [],
   "source": [
    "# url of website to scrape\n",
    "web_url = \"https://www.facebook.com/\" "
   ]
  },
  {
   "cell_type": "code",
   "execution_count": 7,
   "metadata": {},
   "outputs": [],
   "source": [
    "source = requests.get(web_url).text\n",
    "soup = BeautifulSoup(source, 'lxml')"
   ]
  },
  {
   "cell_type": "code",
   "execution_count": 8,
   "metadata": {},
   "outputs": [],
   "source": [
    "a_tag = soup.find_all(\"a\") #Gives you the list of all the a tags"
   ]
  },
  {
   "cell_type": "code",
   "execution_count": 9,
   "metadata": {
    "id": "E5-9MflTAYjV"
   },
   "outputs": [],
   "source": [
    "urls = []\n",
    "for i in a_tag:\n",
    "    for term in [\"privacy\", \"terms\",\"conditions\",\"policy\", \"legal\"]:\n",
    "        if term in i.text.lower():\n",
    "            urls.append(i[\"href\"])\n",
    "\n",
    "raw_policies = []\n",
    "\n",
    "for url in urls: \n",
    "    if url[0] == \"/\":\n",
    "        url = web_url + url\n",
    "    try:\n",
    "        source = requests.get(url).text\n",
    "        soup = BeautifulSoup(source, 'lxml')\n",
    "    except:\n",
    "        continue\n",
    "    policies=soup.find('html')\n",
    "    \n",
    "    raw_policies.append(policies.text)\n",
    "                    \n",
    "    "
   ]
  },
  {
   "cell_type": "markdown",
   "metadata": {},
   "source": [
    "### Adding spaces between joined words"
   ]
  },
  {
   "cell_type": "code",
   "execution_count": 10,
   "metadata": {},
   "outputs": [],
   "source": [
    "import wordninja\n",
    "from nltk.tokenize import word_tokenize\n",
    "\n",
    "clean_words = []\n",
    "list_of_words = word_tokenize(\". \".join(raw_policies))\n",
    "for word in list_of_words:\n",
    "    if len(word) > 10:\n",
    "        words = wordninja.split(word)\n",
    "        clean_words.extend(words)\n",
    "    clean_words.append(word)"
   ]
  },
  {
   "cell_type": "code",
   "execution_count": 11,
   "metadata": {},
   "outputs": [],
   "source": [
    "clean_text = \" \".join(clean_words)"
   ]
  },
  {
   "cell_type": "code",
   "execution_count": 12,
   "metadata": {},
   "outputs": [],
   "source": [
    "remove_unwanted_punctuations_words = []\n",
    "for i,word in enumerate(word_tokenize(clean_text)):\n",
    "    if \".\" in word:\n",
    "        if len(word.strip()) > 1:\n",
    "            word = remove_punctuation(word)\n",
    "        if word == \".\":\n",
    "            if word_tokenize(clean_text)[i+1].strip()[0] == word_tokenize(clean_text)[i+1].lower()[0]:\n",
    "                word = \" \"\n",
    "    remove_unwanted_punctuations_words.append(word.strip())"
   ]
  },
  {
   "cell_type": "code",
   "execution_count": 13,
   "metadata": {},
   "outputs": [],
   "source": [
    "clean_text = \" \".join(remove_unwanted_punctuations_words)"
   ]
  },
  {
   "cell_type": "code",
   "execution_count": 14,
   "metadata": {
    "scrolled": false
   },
   "outputs": [],
   "source": [
    "from nltk.tokenize.punkt import PunktSentenceTokenizer, PunktParameters\n",
    "\n",
    "punkt_param = PunktParameters()\n",
    "tokenizer = PunktSentenceTokenizer(punkt_param)\n",
    "clean_policy = tokenizer.tokenize(clean_text)"
   ]
  },
  {
   "cell_type": "code",
   "execution_count": 15,
   "metadata": {},
   "outputs": [
    {
     "data": {
      "text/plain": [
       "['Facebook Jump toSections of this page Accessibility pageAccessibility HelpPress alt + / to open this menu Facebook Email menuFacebookEmail or Phone Password Forgot PhonePasswordForgot account ?',\n",
       " 'Sign UpFull Data Policy Facebook Ads Controls Privacy Basics Cookies Policy Terms More Resources View a printable version of the Data Policy Interactive Interactive Tools Minors and Safety Facebook Privacy Page Facebook Safety Page Facebook Site Governance Page euus Privacy Shield and swissus Privacy Shield Notice Data Policy This policy describes the information information we process to support Facebook , Instagram , Messenger and other products and features offered by Facebook ( Facebook Products or Products ) .',\n",
       " 'You can find additional tools and information information in the Facebook Settings and Instagram Settings .',\n",
       " 'Return to top What kinds of information information do we collect ?',\n",
       " 'To provide the Facebook Products , we must process information information about you .',\n",
       " 'The types of information information we collect depend on how you use our Products .',\n",
       " 'You can learn how to access and delete information information we collect by visiting the Facebook Settings and Instagram Settings .',\n",
       " 'Things you and others do and provide Information provideinformation and content you provide .',\n",
       " 'We collect the content , communications communications and other information information you provide when you use our Products , including when you sign up for an account , create or share content , and message or communicate communicate with others .',\n",
       " 'This can include information information in or about the content you provide ( like metadata ) , such as the location of a photo or the date a file was created .',\n",
       " 'It can also include what you see through features we provide , such as our camera , so we can do things like suggest masks and filters that you might like , or give you tips on using camera formats .',\n",
       " \"Our systems automatically automatically process content and communications communications you and others provide to analyze context and what 's in them for the purposes described below .\",\n",
       " 'Learn more about how you can control who can see the things you share .',\n",
       " 'Data with special protections protections : You can choose to provide information information in your Facebook profile fields or Life Events about your religious views , political views , who you are `` interested in , `` or your health .',\n",
       " 'This and other information information ( such as racial or ethnic origin , philosophical philosophical beliefs or trade union membership ) could be subject to special protections protections under the laws of your country Networks countrynetworks and connections connections .',\n",
       " 'We collect information information about the people , Pages , accounts , hashtags and groups you are connected to and how you interact with them across our Products , such as people you communicate communicate with the most or groups you are part of .',\n",
       " 'We also collect contact information information if you choose to upload , sync or import it from a device ( such as an address book or call log or SMS log history ) , which we use for things like helping you and others find people you may know and for the other purposes listed belowyour usage .',\n",
       " 'We collect information information about how you use our Products , such as the types of content you view or engage with ; the features you use ; the actions you take ; the people or accounts you interact with ; and the time , frequency and duration of your activities .',\n",
       " \"For example , we log when you 're using and have last used our Products , and what posts , videos and other content you view on our Products .\",\n",
       " 'We also collect information information about how you use features like our camera Information camerainformation about transactions transactions made on our Products .',\n",
       " 'If you use our Products for purchases or other financial transactions transactions ( such as when you make a purchase in a game or make a donation ) , we collect information information about the purchase or transaction transaction .',\n",
       " 'This includes payment information information , such as your credit or debit card number and other card information information ; other account and authentication authentication information information ; and billing , shipping and contact details Things detailsthings others do and information information they provide about you .',\n",
       " 'We also receive and analyze content , communications communications and information information that other people provide when they use our Products .',\n",
       " 'This can include information information about you , such as when others share or comment on a photo of you , send a message to you , or upload , sync or import your contact information Device informationdevice Information Information As described below , we collect information information from and about the computers , phones , connected TVs and other web connected web-connected devices you use that integrate with our Products , and we combine this information information across different devices you use .',\n",
       " 'For example , we use information information collected about your use of our Products on your phone to better personalize personalize the content ( including ads ) or features you see when you use our Products on another device , such as your laptop or tablet , or to measure whether you took an action in response to an ad we showed you on your phone on a different device .',\n",
       " 'Information Information we obtain from these devices includes : Device attributes : information information such as the operating system , hardware and software versions , battery level , signal strength , available storage space , browser type , app and file names and types , and plugins Device pluginsdevice operations : information information about operations and behaviors performed on the device , such as whether a window is foregrounded foregrounded or background ed backgrounded , or mouse movements ( which can help distinguish distinguish humans from bots ) Identifiers identifiers : unique identifiers identifiers , device IDs , and other identifiers identifiers , such as from games , apps or accounts you use , and Family Device IDs ( or other identifiers identifiers unique to Facebook Company Products associated with the same device or account ) device signals : Bluetooth signals , and information information about nearby Wi-Fi access points , beacons , and cell towers Data towersdata from device settings : information information you allow us to receive through device settings you turn on , such as access to your GPS location , camera or photos Network photosnetwork and connections connections : information information such as the name of your mobile operator or ISP , language , time zone , mobile phone number , IP address , connection speed and , in some cases , information information about other devices that are nearby or on your network , so we can do things like help you stream a video from your phone to your tvcookie data : data from cookies stored on your device , including cookie IDs and settings .',\n",
       " 'Learn more about how we use cookies in the Facebook Cookies Policy and Instagram Cookies Policy Information policyinformation from partners .',\n",
       " 'Advertisers Advertisers , app developers , and publishers can send us information information through Facebook Business Tools they use , including our social plug-ins ( such as the Like button ) , Facebook Login , our APIs and SDKs , or the Facebook pixel .',\n",
       " 'These partners provide information information about your activities off Facebook including Facebook—including information information about your device , websites you visit , purchases you make , the ads you see , and how you use their services whether services—whether or not you have a Facebook account or are logged into Facebook .',\n",
       " 'For example , a game developer could use our API to tell us what games you play , or a business could tell us about a purchase you made in its store .',\n",
       " 'We also receive information information about your online and offline actions and purchases from third party third-party data providers who have the rights to provide us with your information information .',\n",
       " 'Partners receive your data when you visit or use their services or through third parties they work with .',\n",
       " 'We require each of these partners to have lawful rights to collect , use and share your data before providing any data to us .',\n",
       " 'Learn more about the types of partners we receive data from .',\n",
       " 'To learn more about how we use cookies in connection with Facebook Business Tools , review the Facebook Cookies Policy and Instagram Cookies Policy .',\n",
       " 'Return to top How do we use this information information ?',\n",
       " 'We use the information information we have ( subject to choices you make ) as described below and to provide and support the Facebook Products and related services described in the Facebook Terms and Instagram Terms .',\n",
       " \"Here 's how : Provide , personalize personalize and improve our Products .\",\n",
       " 'We use the information information we have to deliver our Products , including to personalize personalize features and content ( including your News Feed , Instagram Feed , Instagram Stories and ads ) and make suggestions suggestions for you ( such as groups or events you may be interested in or topics you may want to follow ) on and off our Products .',\n",
       " \"To create personalized personalized Products that are unique and relevant to you , we use your connections connections , preferences preferences , interests and activities based on the data we collect and learn from you and others ( including any data with special protections protections you choose to provide ) ; how you use and interact with our Products ; and the people , places , or things you 're connected to and interested in on and off our Products .\",\n",
       " 'Learn more about how we use information information about you to personalize personalize your Facebook and Instagram experience , including features , content and recommendations recommendations in Facebook Products ; you can also learn more about how we choose the ads that you see .',\n",
       " 'Information Information across Facebook Products and devices : We connect information information about your activities on different Facebook Products and devices to provide a more tailored and consistent experience on all Facebook Products you use , wherever you use them .',\n",
       " 'For example , we can suggest that you join a group on Facebook that includes people you follow on Instagram or communicate communicate with using Messenger .',\n",
       " \"We can also make your experience more seamless , for example , by automatically automatically filling in your registration registration information information ( such as your phone number ) from one Facebook Product when you sign up for an account on a different Product Location related productlocationrelated information information : We use location related location-related information such information-such as your current location , where you live , the places you like to go , and the businesses and people you 're near-to provide , personalize personalize and improve our Products , including ads , for you and others .\",\n",
       " \"Location related Location-related information information can be based on things like precise device location ( if you 've allowed us to collect it ) , IP addresses , and information information from your and others ' use of Facebook Products ( such as check-ins or events you attend ) product research and development development : We use the information information we have to develop , test and improve our Products , including by conducting surveys and research , and testing and troubleshooting troubleshooting new products and features Face featuresface recognition recognition : If you have it turned on , we use face recognition recognition technology to recognize you in photos , videos and camera experiences experiences .\",\n",
       " 'The face recognition face-recognition templates we create may constitute data with special protections protections under the laws of your country .',\n",
       " 'Learn more about how we use face recognition recognition technology , or control our use of this technology in Facebook Settings .',\n",
       " 'If we introduce face recognition face-recognition technology to your Instagram experience , we will let you know first , and you will have control over whether we use this technology for youads and other sponsored content : We use the information information we have about you including you-including information information about your interests , actions and connections to connections-to select and personalize personalize ads , offers and other sponsored content that we show you .',\n",
       " 'Learn more about how we select and personalize personalize ads , and your choices over the data we use to select ads and other sponsored content for you in the Facebook Settings and Instagram Settings Provide settingsprovide measurement measurement , analytics , and other business services .',\n",
       " 'We use the information information we have ( including your activity off our Products , such as the websites you visit and ads you see ) to help advertisers advertisers and other partners measure the effectiveness effectiveness and distribution distribution of their ads and services , and understand the types of people who use their services and how people interact with their websites , apps , and services .',\n",
       " 'Learn how we share information information with these partners .',\n",
       " 'Promote safety , integrity and security .',\n",
       " 'We use the information information we have to verify accounts and activity , combat harmful conduct , detect and prevent spam and other bad experiences experiences , maintain the integrity of our Products , and promote safety and security on and off of Facebook Products .',\n",
       " 'For example , we use data we have to investigate investigate suspicious activity or violations of our terms or policies , or to detect when someone needs help .',\n",
       " 'To learn more , visit the Facebook Security Help Center and Instagram Security Tips .',\n",
       " 'Communicate Communicate with you .',\n",
       " 'We use the information information we have to send you marketing communications communications , communicate communicate with you about our Products , and let you know about our policies and terms .',\n",
       " 'We also use your information information to respond to you when you contact us .',\n",
       " 'Research and innovate for social good .',\n",
       " 'We use the information information we have ( including from research partners we collaborate collaborate with ) to conduct and support research and innovation on topics of general social welfare , technological technological advancement advancement , public interest , health and well-being .',\n",
       " 'For example , we analyze information information we have about migration patterns during crises to aid relief efforts .',\n",
       " 'Learn more about our research programs .',\n",
       " 'Return to top How is this information information shared ?',\n",
       " 'Your information information is shared with others in the following ways : Sharing on Facebook Products People ProductsPeople and accounts you share and communicate communicate with When you share and communicate communicate using our Products , you choose the audience for what you share .',\n",
       " 'For example , when you post on Facebook , you select the audience for the post , such as a group , all of your friends , the public , or a customized list of people .',\n",
       " 'Similarly , when you use Messenger or Instagram to communicate communicate with people or businesses , those people and businesses can see the content you send .',\n",
       " 'Your network can also see actions you have taken on our Products , including engagement with ads and sponsored content .',\n",
       " 'We also let other accounts see who has viewed their Facebook or Instagram Stories .',\n",
       " \"Public information information can be seen by anyone , on or off our Products , including if they do n't have an account .\",\n",
       " 'This includes your Instagram username ; any information information you share with a public audience ; information information in your public profile on Facebook ; and content you share on a Facebook Page , public Instagram account or any other public forum , such as Facebook Marketplace Marketplace .',\n",
       " 'You , other people using Facebook and Instagram , and we can provide access to or send public information information to anyone on or off our Products , including in other Facebook Company Products , in search results , or through tools and APIs .',\n",
       " 'Public information information can also be seen , accessed , reshared or downloaded through third party third-party services such as search engines , APIs , and offline media such as TV , and by apps , websites and other services that integrate with our Products .',\n",
       " 'Learn more about what information information is public and how to control your visibility on Facebook and Instagram .',\n",
       " 'Content others share or reshare about you You should consider who you choose to share with , because people who can see your activity on our Products can choose to share it with others on and off our Products , including people and businesses outside the audience you shared with .',\n",
       " 'For example , when you share a post or send a message to specific friends or accounts , they can download , screenshot , or reshare that content to others across or off our Products , in person or in virtual reality experiences experiences such as Facebook Spaces .',\n",
       " \"Also , when you comment on someone else 's post or react to their content , your comment or reaction is visible to anyone who can see the other person 's content , and that person can change the audience later .\",\n",
       " 'People can also use our Products to create and share content about you with the audience they choose .',\n",
       " 'For example , people can share a photo of you in a Story , mention or tag you at a location in a post , or share information information about you in their posts or messages .',\n",
       " 'If you are uncomfortable uncomfortable with what others have shared about you on our Products , you can learn how to report the content .',\n",
       " 'Information Information about your active status or presence on our Products .',\n",
       " 'People in your networks can see signals telling them whether you are active on our Products , including whether you are currently active on Instagram , Messenger or Facebook , or when you last used our Products .',\n",
       " 'Apps , websites , and third party third-party integration s integrations on or using our Products .',\n",
       " 'When you choose to use third party third-party apps , websites , or other services that use , or are integrated with , our Products , they can receive information information about what you post or share .',\n",
       " 'For example , when you play a game with your Facebook friends or use a Facebook Comment or Share button on a website , the game developer or website can receive information information about your activities in the game or receive a comment or link that you share from the website on Facebook .',\n",
       " 'Also , when you download or use such third party third-party services , they can access your public profile on Facebook , and any information information that you share with them .',\n",
       " 'Apps and websites you use may receive your list of Facebook friends if you choose to share it with them .',\n",
       " 'But apps and websites you use will not be able to receive any other information information about your Facebook friends from you , or information information about any of your Instagram followers ( although your friends and followers may , of course , choose to share this information information themselves ) .',\n",
       " 'Information Information collected by these third party third-party services is subject to their own terms and policies , not this one .',\n",
       " 'Devices and operating systems providing native versions of Facebook and Instagram ( ie  where we have not developed our own first party first-party apps ) will have access to all information information you choose to share with them , including information information your friends share with you , so they can provide our core functionality functionality to you .',\n",
       " 'Note : We are in the process of restricting restricting developers ’ data access even further to help prevent abuse .',\n",
       " \"For example , we will remove developers ' access to your Facebook and Instagram data if you have n't used their app in 3 months , and we are changing Login , so that in the next version , we will reduce the data that an app can request without app review to include only name , Instagram username and bio , profile photo and email address .\",\n",
       " 'Requesting any other data will require our approval New approvalnew owner .',\n",
       " 'If the ownership or control of all or part of our Products or their assets changes , we may transfer your information information to the new owner .',\n",
       " 'Sharing with Third Party Third-Party Partners We work with third party third-party partners who help us and improve our Products or who use Facebook Business Tools to grow their businesses , which makes it possible to operate our companies and provide free services to people around the world .',\n",
       " \"We do n't sell any of your information information to anyone , and we never will .\",\n",
       " 'We also impose strict restrictions restrictions on how our partners can use and disclose the data we provide .',\n",
       " 'Here are the types of third parties we share information information with : Partners who use our analytics services .',\n",
       " 'We provide aggregated statistics and insights that help people and businesses understand how people are engaging with their posts , listings , Pages , videos and other content on and off the Facebook Products .',\n",
       " 'For example , Page admins and Instagram business profiles receive information information about the number of people or accounts who viewed , reacted to , or commented on their posts , as well as aggregate demographic demographic and other information information that helps them understand interactions interactions with their Page or account .',\n",
       " 'Advertisers Advertisers .',\n",
       " \"We provide advertisers advertisers with reports about the kinds of people seeing their ads and how their ads are performing , but we do n't share information information that personally identifies you ( information information such as your name or email address that by itself can be used to contact you or identifies who you are ) unless you give us permission .\",\n",
       " 'For example , we provide general demographic demographic and interest information information to advertisers advertisers ( for example , that an ad was seen by a woman between the ages of 25 and 34 who lives in Madrid and likes software engineering engineering ) to help them better understand their audience .',\n",
       " 'We also confirm which Facebook ads led you to make a purchase or take an action with an advertiser .',\n",
       " 'Measurement Measurement partners .',\n",
       " 'We share information information about you with companies that aggregate it to provide analytics and measurement measurement reports to our partners .',\n",
       " 'Partners offering goods and services in our Products .',\n",
       " 'When you subscribe to receive premium content , or buy something from a seller in our Products , the content creator or seller can receive your public information information and other information information you share with them , as well as the information information needed to complete the transaction transaction , including shipping and contact details .',\n",
       " 'Vendors and service providers .',\n",
       " 'We provide information information and content to vendors and service providers who support our business , such as by providing technical infrastructure infrastructure services , analyzing how our Products are used , providing customer service , facilitating facilitating payments or conducting surveys .',\n",
       " 'Researchers Researchers and academics .',\n",
       " 'We also provide information information and content to research partners and academics to conduct research that advances scholarship scholarship and innovation that support our business or mission , and enhances discovery and innovation on topics of general social welfare , technological technological advancement advancement , public interest , health and well-being .',\n",
       " 'Law enforcement enforcement or legal requests .',\n",
       " 'We share information information with law enforcement enforcement or in response to legal requests in the circumstances circumstances outlined below .',\n",
       " 'Learn more about how you can control the information information about you that you or others share with third party third-party partners in the Facebook Settings and Instagram Settings .',\n",
       " 'Return to top How do the Facebook Companies work together ?',\n",
       " 'Facebook and Instagram share infrastructure infrastructure , systems and technology with other Facebook Companies ( which include WhatsApp and Oculus ) to provide an innovative , relevant , consistent and safe experience across all Facebook Company Products you use .',\n",
       " 'We also process information information about you across the Facebook Companies for these purposes , as permitted by applicable law and in accordance with their terms and policies .',\n",
       " 'For example , we process information information from WhatsApp about accounts sending spam on its service so we can take appropriate appropriate action against those accounts on Facebook , Instagram or Messenger .',\n",
       " 'We also work to understand how people use and interact with Facebook Company Products , such as understanding understanding the number of unique users on different Facebook Company Products .',\n",
       " 'Return to top How can I manage or delete information information about me ?',\n",
       " 'We provide you with the ability to access , rectify , port and erase your data .',\n",
       " 'Learn more in your Facebook Settings and Instagram Settings .',\n",
       " 'We store data until it is no longer necessary to provide our services and Facebook Products , or until your account is deleted - whichever comes first .',\n",
       " 'This is a case by case case-by-case determination determination that depends on things like the nature of the data , why it is collected and processed , and relevant legal or operational operational retention needs .',\n",
       " 'For example , when you search for something on Facebook , you can access and delete that query from within your search history at any time , but the log of that search is deleted after 6 months .',\n",
       " 'If you submit a copy of your government issued government-issued ID for account verification verification purposes , we delete that copy 30 days after review , unless otherwise stated .',\n",
       " 'Learn more about deletion of content you have shared and cookie data obtained through social plugins .',\n",
       " \"When you delete your account , we delete things you have posted , such as your photos and status updates , and you wo n't be able to recover that information information later .\",\n",
       " \"Information Information that others have shared about you is n't part of your account and wo n't be deleted .\",\n",
       " \"If you do n't want to delete your account but want to temporarily temporarily stop using the Products , you can deactivate your account instead .\",\n",
       " 'To delete your account at any time , please visit the Facebook Settings and Instagram Settings .',\n",
       " 'Return to top How do we respond to legal requests or prevent harm ?',\n",
       " 'We access , preserve and share your information information with regulators , law enforcement enforcement or others : In response to a legal request ( like a search warrant , court order or subpoena ) if we have a good faith belief that the law requires us to do so .',\n",
       " 'This may include responding to legal requests from jurisdictions jurisdictions outside of the United States when we have a good-faith belief that the response is required by law in that jurisdiction jurisdiction , affects users in that jurisdiction jurisdiction , and is consistent with internationally internationally recognized standards When standardswhen we have a good-faith belief it is necessary to : detect , prevent and address fraud , unauthorized unauthorized use of the Products , violations of our terms or policies , or other harmful or illegal activity ; to protect ourselves ( including our rights , property or Products ) , you or others , including as part of investigations investigations or regulatory inquiries ; or to prevent death or imminent bodily harm .',\n",
       " 'For example , if relevant , we provide information information to and receive information information from third party third-party partners about the reliability reliability of your account to prevent fraud , abuse and other harmful activity on and off our Products .',\n",
       " 'Information Information we receive about you ( including financial transaction transaction data related to purchases made with Facebook ) can be accessed and preserved for an extended period when it is the subject of a legal request or obligation , governmental governmental investigation investigation , or investigations investigations of possible violations of our terms or policies , or otherwise to prevent harm .',\n",
       " 'We also retain information information from accounts disabled for terms violations for at least a year to prevent repeat abuse or other term violations .',\n",
       " 'Return to top How do we operate and transfer data as part of our global services ?',\n",
       " 'We share information information globally , both internally within the Facebook Companies , and externally with our partners and with those you connect and share with around the world in accordance with this policy .',\n",
       " 'Your information information may , for example , be transferred transferred or transmitted transmitted to , or stored and processed in the United States or other countries outside of where you live for the purposes as described in this policy .',\n",
       " 'These data transfers are necessary to provide the services set forth in the Facebook Terms and Instagram Terms and to globally operate and provide our Products to you .',\n",
       " \"We utilize standard contract clauses , rely on the European Commission 's adequacy decisions about certain countries , as applicable , and obtain your consent for these data transfers to the United States and other countries .\",\n",
       " 'Return to top How will we notify you of changes to this policy ?',\n",
       " \"We 'll notify you before we make changes to this policy and give you the opportunity opportunity to review the revised policy before you choose to continue using our Products .\",\n",
       " 'Return to top How to contact Facebook with questions You can learn more about how privacy works on Facebook and on Instagram .',\n",
       " 'If you have questions about this policy , you can contact us as described below .',\n",
       " 'Contact Us You can contact us online or by mail at : Facebook , inc ATTN : Privacy Operations 1601 Willow Road Menlo Park , CA 94025 Date of Last Revision : January 11 , 2021 English ( US ) Espa ol Portugu s नेपालीहिन्दीEspañolPortuguês ( Brasil ) Fran a is 日本語Français ( France ) Deutsch Italiano DeutschItalianoالعربية中文 ( 简体 ) Sign UpLog In Messenger Facebook InMessengerFacebook Lite Watch Places Games Marketplace Facebook PlacesGamesMarketplaceFacebook Pay Jobs Oculus Portal Insta gram Local Fundraiser s Services Voting PayJobsOculusPortalInstagramLocalFundraisersServicesVoting Information Information Center About Create CenterAboutCreate AdCreate Page Developers Careers Privacy Cookies Ad PageDevelopersCareersPrivacyCookiesAd Choices Terms Help Settings Activity ChoicesTermsHelpSettingsActivity Log Facebook © 2021 .',\n",
       " 'Facebook Terms and Policies TERMS AND POLICIES Everything POLICIESEverything you need to know , all in one placehow WE WORKTerms of Service Terms ServiceTerms you agree to when you use Facebook Data facebookdata Policy Information PolicyInformation we receive and how it ’ s used Community usedcommunity Standards What StandardsWhat ’ s not allowed and how to report abuse Terms abuseterms of Service Data ServiceData Policy Community PolicyCommunity Standards More StandardsMore Policies']"
      ]
     },
     "execution_count": 15,
     "metadata": {},
     "output_type": "execute_result"
    }
   ],
   "source": [
    "clean_policy"
   ]
  },
  {
   "cell_type": "markdown",
   "metadata": {},
   "source": [
    "### Find all the privacy text similar to good and bad privacy"
   ]
  },
  {
   "cell_type": "markdown",
   "metadata": {},
   "source": [
    "#### Reading the data"
   ]
  },
  {
   "cell_type": "code",
   "execution_count": 16,
   "metadata": {},
   "outputs": [],
   "source": [
    "good_privacy = []\n",
    "with open(\"./Data/good_privacy.txt\", \"r\", encoding=\"utf8\") as f:\n",
    "    for line in f:\n",
    "        text = text_preprocessing(line.rstrip().lower())\n",
    "        good_privacy.append(text)"
   ]
  },
  {
   "cell_type": "code",
   "execution_count": 17,
   "metadata": {},
   "outputs": [],
   "source": [
    "bad_privacy = []\n",
    "with open(\"./Data/bad_privacy.txt\", \"r\",  encoding=\"utf8\") as f:\n",
    "    for line in f:\n",
    "        text = text_preprocessing(line.rstrip().lower())\n",
    "        bad_privacy.append(text)"
   ]
  },
  {
   "cell_type": "code",
   "execution_count": 18,
   "metadata": {},
   "outputs": [],
   "source": [
    "all_privacy = good_privacy + bad_privacy"
   ]
  },
  {
   "cell_type": "markdown",
   "metadata": {},
   "source": [
    "#### Finding similarity score"
   ]
  },
  {
   "cell_type": "code",
   "execution_count": 19,
   "metadata": {},
   "outputs": [],
   "source": [
    "# Program to measure the similarity between \n",
    "# two sentences using cosine similarity.\n",
    "from nltk.corpus import stopwords\n",
    "from nltk.tokenize import word_tokenize"
   ]
  },
  {
   "cell_type": "code",
   "execution_count": 20,
   "metadata": {},
   "outputs": [],
   "source": [
    "sim_sentences = []\n",
    "for X_raw in clean_policy:\n",
    "    X = text_preprocessing(X_raw)\n",
    "    high_sim = 0\n",
    "    sim_sentence = \"\"\n",
    "    for Y in all_privacy:\n",
    "        \n",
    "        l1 =[];l2 =[]\n",
    "\n",
    "        X_set = {w for w in word_tokenize(X)} \n",
    "        Y_set = {w for w in word_tokenize(Y)}\n",
    "\n",
    "        # form a set containing keywords of both strings \n",
    "        rvector = X_set.union(Y_set) \n",
    "        for w in rvector:\n",
    "            if w in X_set: l1.append(1) # create a vector\n",
    "            else: l1.append(0)\n",
    "            if w in Y_set: l2.append(1)\n",
    "            else: l2.append(0)\n",
    "        c = 0\n",
    "\n",
    "        # cosine formula \n",
    "        for i in range(len(rvector)):\n",
    "                c+= l1[i]*l2[i]\n",
    "        cosine = c / float((sum(l1)*sum(l2))**0.5)\n",
    "        \n",
    "        if cosine > high_sim:\n",
    "            high_sim = cosine\n",
    "            sim_sentence = X_raw\n",
    "            \n",
    "    if high_sim > 0.35:\n",
    "        sim_sentences.append(sim_sentence.strip())\n",
    "        \n"
   ]
  },
  {
   "cell_type": "code",
   "execution_count": 21,
   "metadata": {},
   "outputs": [],
   "source": [
    "final_sentences = []\n",
    "for sim_sentence in sim_sentences:\n",
    "    if \"?\" not in sim_sentence:\n",
    "        final_sentences.append(sim_sentence)"
   ]
  },
  {
   "cell_type": "code",
   "execution_count": 22,
   "metadata": {},
   "outputs": [
    {
     "data": {
      "text/plain": [
       "['To provide the Facebook Products , we must process information information about you .',\n",
       " 'The types of information information we collect depend on how you use our Products .',\n",
       " 'Things you and others do and provide Information provideinformation and content you provide .',\n",
       " 'We collect the content , communications communications and other information information you provide when you use our Products , including when you sign up for an account , create or share content , and message or communicate communicate with others .',\n",
       " 'This can include information information in or about the content you provide ( like metadata ) , such as the location of a photo or the date a file was created .',\n",
       " 'Data with special protections protections : You can choose to provide information information in your Facebook profile fields or Life Events about your religious views , political views , who you are `` interested in , `` or your health .',\n",
       " 'We collect information information about the people , Pages , accounts , hashtags and groups you are connected to and how you interact with them across our Products , such as people you communicate communicate with the most or groups you are part of .',\n",
       " 'We also collect contact information information if you choose to upload , sync or import it from a device ( such as an address book or call log or SMS log history ) , which we use for things like helping you and others find people you may know and for the other purposes listed belowyour usage .',\n",
       " 'We collect information information about how you use our Products , such as the types of content you view or engage with ; the features you use ; the actions you take ; the people or accounts you interact with ; and the time , frequency and duration of your activities .',\n",
       " \"For example , we log when you 're using and have last used our Products , and what posts , videos and other content you view on our Products .\",\n",
       " 'We also collect information information about how you use features like our camera Information camerainformation about transactions transactions made on our Products .',\n",
       " 'If you use our Products for purchases or other financial transactions transactions ( such as when you make a purchase in a game or make a donation ) , we collect information information about the purchase or transaction transaction .',\n",
       " 'This includes payment information information , such as your credit or debit card number and other card information information ; other account and authentication authentication information information ; and billing , shipping and contact details Things detailsthings others do and information information they provide about you .',\n",
       " 'We also receive and analyze content , communications communications and information information that other people provide when they use our Products .',\n",
       " 'For example , we use information information collected about your use of our Products on your phone to better personalize personalize the content ( including ads ) or features you see when you use our Products on another device , such as your laptop or tablet , or to measure whether you took an action in response to an ad we showed you on your phone on a different device .',\n",
       " 'Learn more about how we use cookies in the Facebook Cookies Policy and Instagram Cookies Policy Information policyinformation from partners .',\n",
       " 'These partners provide information information about your activities off Facebook including Facebook—including information information about your device , websites you visit , purchases you make , the ads you see , and how you use their services whether services—whether or not you have a Facebook account or are logged into Facebook .',\n",
       " 'Partners receive your data when you visit or use their services or through third parties they work with .',\n",
       " 'We require each of these partners to have lawful rights to collect , use and share your data before providing any data to us .',\n",
       " 'To learn more about how we use cookies in connection with Facebook Business Tools , review the Facebook Cookies Policy and Instagram Cookies Policy .',\n",
       " 'We use the information information we have ( subject to choices you make ) as described below and to provide and support the Facebook Products and related services described in the Facebook Terms and Instagram Terms .',\n",
       " 'We use the information information we have to deliver our Products , including to personalize personalize features and content ( including your News Feed , Instagram Feed , Instagram Stories and ads ) and make suggestions suggestions for you ( such as groups or events you may be interested in or topics you may want to follow ) on and off our Products .',\n",
       " 'Learn more about how we use information information about you to personalize personalize your Facebook and Instagram experience , including features , content and recommendations recommendations in Facebook Products ; you can also learn more about how we choose the ads that you see .',\n",
       " 'Information Information across Facebook Products and devices : We connect information information about your activities on different Facebook Products and devices to provide a more tailored and consistent experience on all Facebook Products you use , wherever you use them .',\n",
       " \"We can also make your experience more seamless , for example , by automatically automatically filling in your registration registration information information ( such as your phone number ) from one Facebook Product when you sign up for an account on a different Product Location related productlocationrelated information information : We use location related location-related information such information-such as your current location , where you live , the places you like to go , and the businesses and people you 're near-to provide , personalize personalize and improve our Products , including ads , for you and others .\",\n",
       " 'If we introduce face recognition face-recognition technology to your Instagram experience , we will let you know first , and you will have control over whether we use this technology for youads and other sponsored content : We use the information information we have about you including you-including information information about your interests , actions and connections to connections-to select and personalize personalize ads , offers and other sponsored content that we show you .',\n",
       " 'We use the information information we have ( including your activity off our Products , such as the websites you visit and ads you see ) to help advertisers advertisers and other partners measure the effectiveness effectiveness and distribution distribution of their ads and services , and understand the types of people who use their services and how people interact with their websites , apps , and services .',\n",
       " 'Learn how we share information information with these partners .',\n",
       " 'Communicate Communicate with you .',\n",
       " 'We also use your information information to respond to you when you contact us .',\n",
       " 'Your information information is shared with others in the following ways : Sharing on Facebook Products People ProductsPeople and accounts you share and communicate communicate with When you share and communicate communicate using our Products , you choose the audience for what you share .',\n",
       " 'Similarly , when you use Messenger or Instagram to communicate communicate with people or businesses , those people and businesses can see the content you send .',\n",
       " 'Your network can also see actions you have taken on our Products , including engagement with ads and sponsored content .',\n",
       " \"Public information information can be seen by anyone , on or off our Products , including if they do n't have an account .\",\n",
       " 'This includes your Instagram username ; any information information you share with a public audience ; information information in your public profile on Facebook ; and content you share on a Facebook Page , public Instagram account or any other public forum , such as Facebook Marketplace Marketplace .',\n",
       " 'You , other people using Facebook and Instagram , and we can provide access to or send public information information to anyone on or off our Products , including in other Facebook Company Products , in search results , or through tools and APIs .',\n",
       " 'Content others share or reshare about you You should consider who you choose to share with , because people who can see your activity on our Products can choose to share it with others on and off our Products , including people and businesses outside the audience you shared with .',\n",
       " 'People can also use our Products to create and share content about you with the audience they choose .',\n",
       " 'For example , people can share a photo of you in a Story , mention or tag you at a location in a post , or share information information about you in their posts or messages .',\n",
       " 'When you choose to use third party third-party apps , websites , or other services that use , or are integrated with , our Products , they can receive information information about what you post or share .',\n",
       " 'Also , when you download or use such third party third-party services , they can access your public profile on Facebook , and any information information that you share with them .',\n",
       " 'Information Information collected by these third party third-party services is subject to their own terms and policies , not this one .',\n",
       " 'Requesting any other data will require our approval New approvalnew owner .',\n",
       " 'If the ownership or control of all or part of our Products or their assets changes , we may transfer your information information to the new owner .',\n",
       " \"We do n't sell any of your information information to anyone , and we never will .\",\n",
       " 'We also impose strict restrictions restrictions on how our partners can use and disclose the data we provide .',\n",
       " 'Here are the types of third parties we share information information with : Partners who use our analytics services .',\n",
       " 'Advertisers Advertisers .',\n",
       " \"We provide advertisers advertisers with reports about the kinds of people seeing their ads and how their ads are performing , but we do n't share information information that personally identifies you ( information information such as your name or email address that by itself can be used to contact you or identifies who you are ) unless you give us permission .\",\n",
       " 'We also confirm which Facebook ads led you to make a purchase or take an action with an advertiser .',\n",
       " 'Measurement Measurement partners .',\n",
       " 'Partners offering goods and services in our Products .',\n",
       " \"When you delete your account , we delete things you have posted , such as your photos and status updates , and you wo n't be able to recover that information information later .\",\n",
       " \"Information Information that others have shared about you is n't part of your account and wo n't be deleted .\",\n",
       " 'To delete your account at any time , please visit the Facebook Settings and Instagram Settings .',\n",
       " 'For example , if relevant , we provide information information to and receive information information from third party third-party partners about the reliability reliability of your account to prevent fraud , abuse and other harmful activity on and off our Products .',\n",
       " 'Your information information may , for example , be transferred transferred or transmitted transmitted to , or stored and processed in the United States or other countries outside of where you live for the purposes as described in this policy .',\n",
       " \"We 'll notify you before we make changes to this policy and give you the opportunity opportunity to review the revised policy before you choose to continue using our Products .\"]"
      ]
     },
     "execution_count": 22,
     "metadata": {},
     "output_type": "execute_result"
    }
   ],
   "source": [
    "final_sentences"
   ]
  },
  {
   "cell_type": "code",
   "execution_count": null,
   "metadata": {},
   "outputs": [],
   "source": []
  }
 ],
 "metadata": {
  "colab": {
   "collapsed_sections": [],
   "include_colab_link": true,
   "name": "web_Scraping.ipynb",
   "provenance": []
  },
  "kernelspec": {
   "display_name": "Python 3",
   "language": "python",
   "name": "python3"
  },
  "language_info": {
   "codemirror_mode": {
    "name": "ipython",
    "version": 3
   },
   "file_extension": ".py",
   "mimetype": "text/x-python",
   "name": "python",
   "nbconvert_exporter": "python",
   "pygments_lexer": "ipython3",
   "version": "3.8.3"
  }
 },
 "nbformat": 4,
 "nbformat_minor": 1
}
