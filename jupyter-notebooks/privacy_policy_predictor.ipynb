{
 "cells": [
  {
   "cell_type": "code",
   "execution_count": 1,
   "metadata": {},
   "outputs": [],
   "source": [
    "import pandas as pd"
   ]
  },
  {
   "cell_type": "code",
   "execution_count": 2,
   "metadata": {},
   "outputs": [],
   "source": [
    "#importing the dataframe\n",
    "df = pd.read_csv(\"./Data/Data.csv\")"
   ]
  },
  {
   "cell_type": "code",
   "execution_count": 3,
   "metadata": {},
   "outputs": [
    {
     "data": {
      "text/html": [
       "<div>\n",
       "<style scoped>\n",
       "    .dataframe tbody tr th:only-of-type {\n",
       "        vertical-align: middle;\n",
       "    }\n",
       "\n",
       "    .dataframe tbody tr th {\n",
       "        vertical-align: top;\n",
       "    }\n",
       "\n",
       "    .dataframe thead th {\n",
       "        text-align: right;\n",
       "    }\n",
       "</style>\n",
       "<table border=\"1\" class=\"dataframe\">\n",
       "  <thead>\n",
       "    <tr style=\"text-align: right;\">\n",
       "      <th></th>\n",
       "      <th>Privacy Text</th>\n",
       "      <th>Score</th>\n",
       "    </tr>\n",
       "  </thead>\n",
       "  <tbody>\n",
       "    <tr>\n",
       "      <th>0</th>\n",
       "      <td>We are unable to respond to Do Not Track signa...</td>\n",
       "      <td>1</td>\n",
       "    </tr>\n",
       "    <tr>\n",
       "      <th>1</th>\n",
       "      <td>These tracking technologies collect informatio...</td>\n",
       "      <td>1</td>\n",
       "    </tr>\n",
       "    <tr>\n",
       "      <th>2</th>\n",
       "      <td>We and our third-party partners may also use c...</td>\n",
       "      <td>1</td>\n",
       "    </tr>\n",
       "    <tr>\n",
       "      <th>3</th>\n",
       "      <td>Company may share data collected from or about...</td>\n",
       "      <td>1</td>\n",
       "    </tr>\n",
       "    <tr>\n",
       "      <th>4</th>\n",
       "      <td>In the event that the company is involved in a...</td>\n",
       "      <td>1</td>\n",
       "    </tr>\n",
       "  </tbody>\n",
       "</table>\n",
       "</div>"
      ],
      "text/plain": [
       "                                        Privacy Text  Score\n",
       "0  We are unable to respond to Do Not Track signa...      1\n",
       "1  These tracking technologies collect informatio...      1\n",
       "2  We and our third-party partners may also use c...      1\n",
       "3  Company may share data collected from or about...      1\n",
       "4  In the event that the company is involved in a...      1"
      ]
     },
     "execution_count": 3,
     "metadata": {},
     "output_type": "execute_result"
    }
   ],
   "source": [
    "df.head()"
   ]
  },
  {
   "cell_type": "code",
   "execution_count": 4,
   "metadata": {},
   "outputs": [
    {
     "data": {
      "text/plain": [
       "(227, 2)"
      ]
     },
     "execution_count": 4,
     "metadata": {},
     "output_type": "execute_result"
    }
   ],
   "source": [
    "df.shape"
   ]
  },
  {
   "cell_type": "code",
   "execution_count": 5,
   "metadata": {},
   "outputs": [
    {
     "name": "stdout",
     "output_type": "stream",
     "text": [
      "<class 'pandas.core.frame.DataFrame'>\n",
      "RangeIndex: 227 entries, 0 to 226\n",
      "Data columns (total 2 columns):\n",
      " #   Column        Non-Null Count  Dtype \n",
      "---  ------        --------------  ----- \n",
      " 0   Privacy Text  227 non-null    object\n",
      " 1   Score         227 non-null    int64 \n",
      "dtypes: int64(1), object(1)\n",
      "memory usage: 3.7+ KB\n"
     ]
    }
   ],
   "source": [
    "df.info()"
   ]
  },
  {
   "cell_type": "markdown",
   "metadata": {},
   "source": [
    "### Text preprocessing"
   ]
  },
  {
   "cell_type": "markdown",
   "metadata": {},
   "source": [
    "#### Removing Punctuations and converting all word to lowercase"
   ]
  },
  {
   "cell_type": "code",
   "execution_count": 6,
   "metadata": {},
   "outputs": [],
   "source": [
    "import string\n",
    "import nltk\n",
    "\n",
    "\n",
    "def remove_punctuation(text):\n",
    "    no_punctuation_text = ''.join([i for i in str(text) if i not in string.punctuation])\n",
    "    return no_punctuation_text.lower()"
   ]
  },
  {
   "cell_type": "code",
   "execution_count": 7,
   "metadata": {},
   "outputs": [],
   "source": [
    "df['Privacy Text'] = df['Privacy Text'].apply(remove_punctuation)"
   ]
  },
  {
   "cell_type": "code",
   "execution_count": 8,
   "metadata": {},
   "outputs": [
    {
     "data": {
      "text/html": [
       "<div>\n",
       "<style scoped>\n",
       "    .dataframe tbody tr th:only-of-type {\n",
       "        vertical-align: middle;\n",
       "    }\n",
       "\n",
       "    .dataframe tbody tr th {\n",
       "        vertical-align: top;\n",
       "    }\n",
       "\n",
       "    .dataframe thead th {\n",
       "        text-align: right;\n",
       "    }\n",
       "</style>\n",
       "<table border=\"1\" class=\"dataframe\">\n",
       "  <thead>\n",
       "    <tr style=\"text-align: right;\">\n",
       "      <th></th>\n",
       "      <th>Privacy Text</th>\n",
       "      <th>Score</th>\n",
       "    </tr>\n",
       "  </thead>\n",
       "  <tbody>\n",
       "    <tr>\n",
       "      <th>0</th>\n",
       "      <td>we are unable to respond to do not track signa...</td>\n",
       "      <td>1</td>\n",
       "    </tr>\n",
       "    <tr>\n",
       "      <th>1</th>\n",
       "      <td>these tracking technologies collect informatio...</td>\n",
       "      <td>1</td>\n",
       "    </tr>\n",
       "    <tr>\n",
       "      <th>2</th>\n",
       "      <td>we and our thirdparty partners may also use co...</td>\n",
       "      <td>1</td>\n",
       "    </tr>\n",
       "    <tr>\n",
       "      <th>3</th>\n",
       "      <td>company may share data collected from or about...</td>\n",
       "      <td>1</td>\n",
       "    </tr>\n",
       "    <tr>\n",
       "      <th>4</th>\n",
       "      <td>in the event that the company is involved in a...</td>\n",
       "      <td>1</td>\n",
       "    </tr>\n",
       "  </tbody>\n",
       "</table>\n",
       "</div>"
      ],
      "text/plain": [
       "                                        Privacy Text  Score\n",
       "0  we are unable to respond to do not track signa...      1\n",
       "1  these tracking technologies collect informatio...      1\n",
       "2  we and our thirdparty partners may also use co...      1\n",
       "3  company may share data collected from or about...      1\n",
       "4  in the event that the company is involved in a...      1"
      ]
     },
     "execution_count": 8,
     "metadata": {},
     "output_type": "execute_result"
    }
   ],
   "source": [
    "df.head()"
   ]
  },
  {
   "cell_type": "markdown",
   "metadata": {},
   "source": [
    "#### Removing nonwords and reducing word to it's lemma"
   ]
  },
  {
   "cell_type": "code",
   "execution_count": 9,
   "metadata": {},
   "outputs": [],
   "source": [
    "import spacy\n",
    "nlp = spacy.load(\"en_core_web_sm\")"
   ]
  },
  {
   "cell_type": "code",
   "execution_count": 10,
   "metadata": {},
   "outputs": [],
   "source": [
    "import re \n",
    "\n",
    "def remove_nonwords(str_):\n",
    "    return re.sub(\"[^A-Za-z ]\\w+[^A-Za-z]*\", ' ', str_)\n",
    "\n",
    "# Lemmatization and Removing stop words and non words\n",
    "def text_preprocessing(text):\n",
    "    text = remove_nonwords(text)\n",
    "    tokenized_text = [token.lemma_ for token in nlp(text)]\n",
    "    no_stopwords_list = [i.lower() for i in tokenized_text if i not in nlp.Defaults.stop_words]\n",
    "    lemma_text = ' '.join(no_stopwords_list)\n",
    "    return lemma_text"
   ]
  },
  {
   "cell_type": "code",
   "execution_count": 11,
   "metadata": {},
   "outputs": [],
   "source": [
    "# Preprocessing the Headline text\n",
    "df['Privacy Text'] = df['Privacy Text'].apply(text_preprocessing)"
   ]
  },
  {
   "cell_type": "code",
   "execution_count": 12,
   "metadata": {},
   "outputs": [
    {
     "data": {
      "text/html": [
       "<div>\n",
       "<style scoped>\n",
       "    .dataframe tbody tr th:only-of-type {\n",
       "        vertical-align: middle;\n",
       "    }\n",
       "\n",
       "    .dataframe tbody tr th {\n",
       "        vertical-align: top;\n",
       "    }\n",
       "\n",
       "    .dataframe thead th {\n",
       "        text-align: right;\n",
       "    }\n",
       "</style>\n",
       "<table border=\"1\" class=\"dataframe\">\n",
       "  <thead>\n",
       "    <tr style=\"text-align: right;\">\n",
       "      <th></th>\n",
       "      <th>Privacy Text</th>\n",
       "      <th>Score</th>\n",
       "    </tr>\n",
       "  </thead>\n",
       "  <tbody>\n",
       "    <tr>\n",
       "      <th>0</th>\n",
       "      <td>unable respond track signal set browser time</td>\n",
       "      <td>1</td>\n",
       "    </tr>\n",
       "    <tr>\n",
       "      <th>1</th>\n",
       "      <td>track technology collect information use servi...</td>\n",
       "      <td>1</td>\n",
       "    </tr>\n",
       "    <tr>\n",
       "      <th>2</th>\n",
       "      <td>thirdparty partner use cookie tracking technol...</td>\n",
       "      <td>1</td>\n",
       "    </tr>\n",
       "    <tr>\n",
       "      <th>3</th>\n",
       "      <td>company share datum collect party partner faci...</td>\n",
       "      <td>1</td>\n",
       "    </tr>\n",
       "    <tr>\n",
       "      <th>4</th>\n",
       "      <td>event company involve merger acquisition bankr...</td>\n",
       "      <td>1</td>\n",
       "    </tr>\n",
       "  </tbody>\n",
       "</table>\n",
       "</div>"
      ],
      "text/plain": [
       "                                        Privacy Text  Score\n",
       "0       unable respond track signal set browser time      1\n",
       "1  track technology collect information use servi...      1\n",
       "2  thirdparty partner use cookie tracking technol...      1\n",
       "3  company share datum collect party partner faci...      1\n",
       "4  event company involve merger acquisition bankr...      1"
      ]
     },
     "execution_count": 12,
     "metadata": {},
     "output_type": "execute_result"
    }
   ],
   "source": [
    "df.head()"
   ]
  },
  {
   "cell_type": "code",
   "execution_count": 13,
   "metadata": {},
   "outputs": [],
   "source": [
    "# dropping ALL duplicte values\n",
    "df = df.drop_duplicates()"
   ]
  },
  {
   "cell_type": "markdown",
   "metadata": {},
   "source": [
    "### Building Model"
   ]
  },
  {
   "cell_type": "markdown",
   "metadata": {},
   "source": [
    "#### Split data into train and test sets"
   ]
  },
  {
   "cell_type": "code",
   "execution_count": 14,
   "metadata": {},
   "outputs": [],
   "source": [
    "from sklearn.model_selection import train_test_split\n",
    "\n",
    "X_train_nv, X_test_nv, y_train, y_test = train_test_split(df['Privacy Text'], df['Score'], \n",
    "                                                    train_size=0.8, \n",
    "                                                    random_state=42)"
   ]
  },
  {
   "cell_type": "markdown",
   "metadata": {},
   "source": [
    "#### Vectorization"
   ]
  },
  {
   "cell_type": "code",
   "execution_count": 15,
   "metadata": {},
   "outputs": [],
   "source": [
    "from nltk.corpus import stopwords\n",
    "from sklearn.feature_extraction.text import TfidfVectorizer, CountVectorizer\n",
    "from sklearn.feature_selection import SelectKBest, chi2\n",
    "\n",
    "vectorizer = TfidfVectorizer(max_features=500,stop_words=stopwords.words('english'))\n",
    "X_train = vectorizer.fit_transform(X_train_nv).toarray()\n",
    "X_test = vectorizer.transform(X_test_nv)"
   ]
  },
  {
   "cell_type": "code",
   "execution_count": 16,
   "metadata": {},
   "outputs": [],
   "source": [
    "#vectorizer = CountVectorizer(ngram_range = (3,3))\n",
    "vectorizer = CountVectorizer()\n",
    "X_train = vectorizer.fit_transform(X_train_nv) \n",
    "X_test = vectorizer.transform(X_test_nv) \n",
    "features = (vectorizer.get_feature_names())"
   ]
  },
  {
   "cell_type": "code",
   "execution_count": 17,
   "metadata": {},
   "outputs": [],
   "source": [
    "#Save the vectorizer and feature Selector\n",
    "import pickle\n",
    "\n",
    "pickle.dump(vectorizer, open(\"./Model/vectorizer.pkl\", \"wb\"))"
   ]
  },
  {
   "cell_type": "markdown",
   "metadata": {},
   "source": [
    "#### Training the model"
   ]
  },
  {
   "cell_type": "code",
   "execution_count": 18,
   "metadata": {},
   "outputs": [
    {
     "name": "stdout",
     "output_type": "stream",
     "text": [
      "\n",
      "Logistic Regression Algorithm\n",
      "\n",
      "Confusion Matrix: \n",
      " [[16 10]\n",
      " [ 8 12]]\n",
      "Classification Report: \n",
      "               precision    recall  f1-score   support\n",
      "\n",
      "           0       0.67      0.62      0.64        26\n",
      "           1       0.55      0.60      0.57        20\n",
      "\n",
      "    accuracy                           0.61        46\n",
      "   macro avg       0.61      0.61      0.61        46\n",
      "weighted avg       0.61      0.61      0.61        46\n",
      "\n",
      "Accuracy Score: \n",
      " 0.6086956521739131\n",
      "\n",
      "Stochastic Gradient Descent Algorithm\n",
      "\n",
      "Confusion Matrix: \n",
      " [[14 12]\n",
      " [ 8 12]]\n",
      "Classification Report: \n",
      "               precision    recall  f1-score   support\n",
      "\n",
      "           0       0.64      0.54      0.58        26\n",
      "           1       0.50      0.60      0.55        20\n",
      "\n",
      "    accuracy                           0.57        46\n",
      "   macro avg       0.57      0.57      0.56        46\n",
      "weighted avg       0.58      0.57      0.57        46\n",
      "\n",
      "Accuracy Score: \n",
      " 0.5652173913043478\n",
      "\n",
      "Random Forest Classifier  Algorithm\n",
      "\n",
      "Confusion Matrix: \n",
      " [[22  4]\n",
      " [ 7 13]]\n",
      "Classification Report: \n",
      "               precision    recall  f1-score   support\n",
      "\n",
      "           0       0.76      0.85      0.80        26\n",
      "           1       0.76      0.65      0.70        20\n",
      "\n",
      "    accuracy                           0.76        46\n",
      "   macro avg       0.76      0.75      0.75        46\n",
      "weighted avg       0.76      0.76      0.76        46\n",
      "\n",
      "Accuracy Score: \n",
      " 0.7608695652173914\n"
     ]
    }
   ],
   "source": [
    "from sklearn.linear_model import LogisticRegression, SGDClassifier\n",
    "from sklearn.ensemble import RandomForestClassifier\n",
    "from sklearn.metrics import *\n",
    "from sklearn.svm import SVC\n",
    "\n",
    "LR = LogisticRegression()\n",
    "SGDC = SGDClassifier()\n",
    "RFC = RandomForestClassifier(n_estimators=300, random_state=0)\n",
    "\n",
    "# Logistic Regression\n",
    "LR.fit(X_train, y_train)\n",
    "LR_Model = LR.predict(X_test)\n",
    "print(\"\\nLogistic Regression Algorithm\\n\")\n",
    "print(\"Confusion Matrix: \\n\",confusion_matrix(y_test,LR_Model))\n",
    "print(\"Classification Report: \\n\",classification_report(y_test,LR_Model))\n",
    "print(\"Accuracy Score: \\n\",accuracy_score(y_test, LR_Model))\n",
    "\n",
    "# Stochastic Gradient Descent\n",
    "SGDC.fit(X_train, y_train)\n",
    "SGDC_Model = SGDC.predict(X_test)\n",
    "print(\"\\nStochastic Gradient Descent Algorithm\\n\")\n",
    "print(\"Confusion Matrix: \\n\",confusion_matrix(y_test,SGDC_Model))\n",
    "print(\"Classification Report: \\n\",classification_report(y_test,SGDC_Model))\n",
    "print(\"Accuracy Score: \\n\",accuracy_score(y_test, SGDC_Model))\n",
    "\n",
    "# Random Forest Classifier \n",
    "RFC.fit(X_train, y_train)\n",
    "RFC_Model = RFC.predict(X_test)\n",
    "print(\"\\nRandom Forest Classifier  Algorithm\\n\")\n",
    "print(\"Confusion Matrix: \\n\",confusion_matrix(y_test,RFC_Model))\n",
    "print(\"Classification Report: \\n\",classification_report(y_test,RFC_Model))\n",
    "print(\"Accuracy Score: \\n\",accuracy_score(y_test, RFC_Model))\n"
   ]
  },
  {
   "cell_type": "code",
   "execution_count": 19,
   "metadata": {},
   "outputs": [],
   "source": [
    "# Saving the model\n",
    "pickle.dump(LR, open(\"./Model/logistic_regression.pkl\", \"wb\"))"
   ]
  },
  {
   "cell_type": "markdown",
   "metadata": {},
   "source": [
    "### Trying the model in custom data"
   ]
  },
  {
   "cell_type": "code",
   "execution_count": 20,
   "metadata": {},
   "outputs": [],
   "source": [
    "sim_sentence = ['By using our Services, you’re agreeing to be bound by these Terms and our Rules.',\n",
    " 'You further agree not to sell any Personal Information, where the term “sell” has the meaning given to it under applicable laws.For Personal Information you provide to us (e.g.',\n",
    " 'as a Newsletter Editor), you represent and warrant that you have lawfully collected the Personal Information and that you or a third party has provided all required notices and collected all required consents before collecting the Personal Information.',\n",
    " 'We may use this feedback for any purpose, in our sole discretion, without any obligation to you.',\n",
    " 'We also retain the right to create limits on use and storage and may remove or limit content distribution on the Services.TerminationYou’re free to stop using our Services at any time.',\n",
    " 'Medium may provide information about third-party products, services, activities or events, or we may allow third parties to make their content and information available on or through our Services (collectively, “Third-Party Content”).',\n",
    " 'For purposes of this section a “consumer” means a person using the Services for personal, family or household purposes.',\n",
    " 'This paragraph doesn’t override those laws.AmendmentsWe may make changes to these Terms from time to time.',\n",
    " 'Unless we say otherwise in our notice, the amended Terms will be effective immediately, and your continued use of our Services after we provide such notice will confirm your acceptance of the changes.',\n",
    " 'By using our Services, you’re agreeing to be bound by these Terms and our Rules.',\n",
    " 'You further agree not to sell any Personal Information, where the term “sell” has the meaning given to it under applicable laws.For Personal Information you provide to us (e.g.',\n",
    " 'as a Newsletter Editor), you represent and warrant that you have lawfully collected the Personal Information and that you or a third party has provided all required notices and collected all required consents before collecting the Personal Information.',\n",
    " 'We may use this feedback for any purpose, in our sole discretion, without any obligation to you.',\n",
    " 'We also retain the right to create limits on use and storage and may remove or limit content distribution on the Services.TerminationYou’re free to stop using our Services at any time.',\n",
    " 'Medium may provide information about third-party products, services, activities or events, or we may allow third parties to make their content and information available on or through our Services (collectively, “Third-Party Content”).',\n",
    " 'For purposes of this section a “consumer” means a person using the Services for personal, family or household purposes.',\n",
    " 'This paragraph doesn’t override those laws.AmendmentsWe may make changes to these Terms from time to time.',\n",
    " 'Unless we say otherwise in our notice, the amended Terms will be effective immediately, and your continued use of our Services after we provide such notice will confirm your acceptance of the changes.',\n",
    " 'By using our Services, you’re agreeing to be bound by these Terms and our Rules.',\n",
    " 'You further agree not to sell any Personal Information, where the term “sell” has the meaning given to it under applicable laws.For Personal Information you provide to us (e.g.',\n",
    " 'as a Newsletter Editor), you represent and warrant that you have lawfully collected the Personal Information and that you or a third party has provided all required notices and collected all required consents before collecting the Personal Information.',\n",
    " 'We may use this feedback for any purpose, in our sole discretion, without any obligation to you.',\n",
    " 'We also retain the right to create limits on use and storage and may remove or limit content distribution on the Services.TerminationYou’re free to stop using our Services at any time.',\n",
    " 'Medium may provide information about third-party products, services, activities or events, or we may allow third parties to make their content and information available on or through our Services (collectively, “Third-Party Content”).',\n",
    " 'For purposes of this section a “consumer” means a person using the Services for personal, family or household purposes.',\n",
    " 'This paragraph doesn’t override those laws.AmendmentsWe may make changes to these Terms from time to time.',\n",
    " 'Unless we say otherwise in our notice, the amended Terms will be effective immediately, and your continued use of our Services after we provide such notice will confirm your acceptance of the changes.',\n",
    " 'By using our Services, you’re agreeing to be bound by these Terms and our Rules.',\n",
    " 'You further agree not to sell any Personal Information, where the term “sell” has the meaning given to it under applicable laws.For Personal Information you provide to us (e.g.',\n",
    " 'as a Newsletter Editor), you represent and warrant that you have lawfully collected the Personal Information and that you or a third party has provided all required notices and collected all required consents before collecting the Personal Information.',\n",
    " 'We may use this feedback for any purpose, in our sole discretion, without any obligation to you.',\n",
    " 'We also retain the right to create limits on use and storage and may remove or limit content distribution on the Services.TerminationYou’re free to stop using our Services at any time.',\n",
    " 'Medium may provide information about third-party products, services, activities or events, or we may allow third parties to make their content and information available on or through our Services (collectively, “Third-Party Content”).',\n",
    " 'For purposes of this section a “consumer” means a person using the Services for personal, family or household purposes.',\n",
    " 'This paragraph doesn’t override those laws.AmendmentsWe may make changes to these Terms from time to time.',\n",
    " 'Unless we say otherwise in our notice, the amended Terms will be effective immediately, and your continued use of our Services after we provide such notice will confirm your acceptance of the changes.',\n",
    " 'By using our Services, you’re agreeing to be bound by these Terms and our Rules.',\n",
    " 'You further agree not to sell any Personal Information, where the term “sell” has the meaning given to it under applicable laws.For Personal Information you provide to us (e.g.',\n",
    " 'as a Newsletter Editor), you represent and warrant that you have lawfully collected the Personal Information and that you or a third party has provided all required notices and collected all required consents before collecting the Personal Information.',\n",
    " 'We may use this feedback for any purpose, in our sole discretion, without any obligation to you.',\n",
    " 'We also retain the right to create limits on use and storage and may remove or limit content distribution on the Services.TerminationYou’re free to stop using our Services at any time.',\n",
    " 'Medium may provide information about third-party products, services, activities or events, or we may allow third parties to make their content and information available on or through our Services (collectively, “Third-Party Content”).',\n",
    " 'For purposes of this section a “consumer” means a person using the Services for personal, family or household purposes.',\n",
    " 'This paragraph doesn’t override those laws.AmendmentsWe may make changes to these Terms from time to time.',\n",
    " 'Unless we say otherwise in our notice, the amended Terms will be effective immediately, and your continued use of our Services after we provide such notice will confirm your acceptance of the changes.',\n",
    " 'By using our Services, you’re agreeing to be bound by these Terms and our Rules.',\n",
    " 'You further agree not to sell any Personal Information, where the term “sell” has the meaning given to it under applicable laws.For Personal Information you provide to us (e.g.',\n",
    " 'as a Newsletter Editor), you represent and warrant that you have lawfully collected the Personal Information and that you or a third party has provided all required notices and collected all required consents before collecting the Personal Information.',\n",
    " 'We may use this feedback for any purpose, in our sole discretion, without any obligation to you.',\n",
    " 'We also retain the right to create limits on use and storage and may remove or limit content distribution on the Services.TerminationYou’re free to stop using our Services at any time.',\n",
    " 'Medium may provide information about third-party products, services, activities or events, or we may allow third parties to make their content and information available on or through our Services (collectively, “Third-Party Content”).',\n",
    " 'For purposes of this section a “consumer” means a person using the Services for personal, family or household purposes.',\n",
    " 'This paragraph doesn’t override those laws.AmendmentsWe may make changes to these Terms from time to time.',\n",
    " 'Unless we say otherwise in our notice, the amended Terms will be effective immediately, and your continued use of our Services after we provide such notice will confirm your acceptance of the changes.']"
   ]
  },
  {
   "cell_type": "code",
   "execution_count": 21,
   "metadata": {},
   "outputs": [],
   "source": [
    "sim_sentence = list(set(sim_sentence))"
   ]
  },
  {
   "cell_type": "code",
   "execution_count": 22,
   "metadata": {},
   "outputs": [],
   "source": [
    "sim_sentence_lower = list(map(remove_punctuation, sim_sentence))"
   ]
  },
  {
   "cell_type": "code",
   "execution_count": 23,
   "metadata": {},
   "outputs": [],
   "source": [
    "sim_sentence_lemma = list(map(text_preprocessing, sim_sentence_lower))"
   ]
  },
  {
   "cell_type": "code",
   "execution_count": 24,
   "metadata": {},
   "outputs": [],
   "source": [
    "sim_sentence_vector = vectorizer.transform(sim_sentence_lemma)"
   ]
  },
  {
   "cell_type": "code",
   "execution_count": 25,
   "metadata": {},
   "outputs": [],
   "source": [
    "predicted = RFC.predict(sim_sentence_vector)"
   ]
  },
  {
   "cell_type": "code",
   "execution_count": 26,
   "metadata": {},
   "outputs": [
    {
     "data": {
      "text/plain": [
       "array([0, 1, 0, 1, 1, 1, 1, 0, 0], dtype=int64)"
      ]
     },
     "execution_count": 26,
     "metadata": {},
     "output_type": "execute_result"
    }
   ],
   "source": [
    "predicted"
   ]
  },
  {
   "cell_type": "markdown",
   "metadata": {},
   "source": [
    "#### Good Privacy Text"
   ]
  },
  {
   "cell_type": "code",
   "execution_count": 28,
   "metadata": {},
   "outputs": [
    {
     "name": "stdout",
     "output_type": "stream",
     "text": [
      "Medium may provide information about third-party products, services, activities or events, or we may allow third parties to make their content and information available on or through our Services (collectively, “Third-Party Content”).\n",
      "We may use this feedback for any purpose, in our sole discretion, without any obligation to you.\n",
      "We also retain the right to create limits on use and storage and may remove or limit content distribution on the Services.TerminationYou’re free to stop using our Services at any time.\n",
      "as a Newsletter Editor), you represent and warrant that you have lawfully collected the Personal Information and that you or a third party has provided all required notices and collected all required consents before collecting the Personal Information.\n",
      "Unless we say otherwise in our notice, the amended Terms will be effective immediately, and your continued use of our Services after we provide such notice will confirm your acceptance of the changes.\n"
     ]
    }
   ],
   "source": [
    "for i,sentence in enumerate(sim_sentence):\n",
    "    if predicted[i] == 1:\n",
    "        print(sentence )\n",
    "        "
   ]
  },
  {
   "cell_type": "code",
   "execution_count": null,
   "metadata": {},
   "outputs": [],
   "source": []
  }
 ],
 "metadata": {
  "colab": {
   "include_colab_link": true,
   "name": "privacy_policy_predictor.ipynb",
   "provenance": []
  },
  "kernelspec": {
   "display_name": "Python 3",
   "language": "python",
   "name": "python3"
  },
  "language_info": {
   "codemirror_mode": {
    "name": "ipython",
    "version": 3
   },
   "file_extension": ".py",
   "mimetype": "text/x-python",
   "name": "python",
   "nbconvert_exporter": "python",
   "pygments_lexer": "ipython3",
   "version": "3.8.3"
  }
 },
 "nbformat": 4,
 "nbformat_minor": 1
}
